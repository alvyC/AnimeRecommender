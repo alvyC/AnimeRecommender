{
 "cells": [
  {
   "cell_type": "code",
   "execution_count": 13,
   "metadata": {},
   "outputs": [
    {
     "name": "stdout",
     "output_type": "stream",
     "text": [
      "Naruto Shippuuden\n",
      "Katekyo Hitman Reborn \n",
      "Bleach\n",
      "Dragon Ball Z\n",
      "Boku no Hero Academia\n"
     ]
    },
    {
     "name": "stderr",
     "output_type": "stream",
     "text": [
      "/Users/alvy/anaconda/lib/python3.6/site-packages/ipykernel_launcher.py:25: DeprecationWarning: \n",
      ".ix is deprecated. Please use\n",
      ".loc for label based indexing or\n",
      ".iloc for positional indexing\n",
      "\n",
      "See the documentation here:\n",
      "http://pandas.pydata.org/pandas-docs/stable/indexing.html#deprecate_ix\n"
     ]
    }
   ],
   "source": [
    "# This Python 3 environment comes with many helpful analytics libraries installed\n",
    "# It is defined by the kaggle/python docker image: https://github.com/kaggle/docker-python\n",
    "# For example, here's several helpful packages to load in \n",
    "\n",
    "import numpy as np\n",
    "import pandas as pd\n",
    "import matplotlib.pyplot as plt\n",
    "import re\n",
    "import seaborn as sns\n",
    "from sklearn.preprocessing import MaxAbsScaler\n",
    "from sklearn.neighbors import NearestNeighbors\n",
    "%matplotlib inline\n",
    "\n",
    "def setEpisodes(genreName):\n",
    "    anime.loc[(anime[\"genre\"]==genreName) & (anime[\"episodes\"]==\"Unknown\"),\"episodes\"] = \"1\"\n",
    "\n",
    "            \n",
    "def find_alike_animes(animeName=None,id=None):\n",
    "    if id:\n",
    "        for id in indices[id][1:]:\n",
    "            print(anime.ix[id][\"name\"])\n",
    "    if animeName:\n",
    "        anime_id = anime[anime[\"name\"]==animeName].index.tolist()[0]\n",
    "        for id in indices[anime_id][1:]:\n",
    "            print(anime.ix[id][\"name\"])\n",
    "    \n",
    "# read_csv() returns a dataframe\n",
    "anime = pd.read_csv(\"anime-data/anime.csv\")  \n",
    "anime_rating = pd.read_csv(\"anime-data/rating.csv\")\n",
    "\n",
    "setEpisodes(\"Hentai\")\n",
    "setEpisodes(\"OVA\")\n",
    "setEpisodes(\"Movie\")\n",
    "\n",
    "# episodes: replace episodes with null value with median value\n",
    "#print(anime[anime['episodes'] == \"Unknown\"].head())\n",
    "anime.loc[anime['episodes'] == \"Unknown\", \"episodes\"] = np.nan\n",
    "#print(anime[anime['episodes'].isnull()].head())\n",
    "anime[\"episodes\"].fillna(anime[\"episodes\"].median(),inplace = True)\n",
    "#print (anime[anime['episodes'] == anime[\"episodes\"].median()].head())\n",
    "\n",
    "# rating: replace rating with null value with median value\n",
    "anime[\"rating\"] = anime[\"rating\"].astype(float)\n",
    "#print (anime[anime[\"rating\"].isnull()].head())\n",
    "anime[\"rating\"].fillna(anime[\"rating\"].median(),inplace = True)\n",
    "#print (anime[anime[\"rating\"] == anime[\"rating\"].median()].head())\n",
    "\n",
    "# print (anime.loc[anime[\"rating\"] > 8.7, Prem\"name\"])\n",
    "# print (anime[[\"name\", \"rating\"]].where(anime[\"rating\"] > 8.5))\n",
    "\n",
    "# type: Turn categorical variable to dummy variable\n",
    "pd.get_dummies(anime[[\"type\"]])\n",
    "\n",
    "# members: Convert string to float\n",
    "anime[\"members\"] = anime[\"members\"].astype(float)\n",
    "\n",
    "anime_features = pd.concat([anime[\"genre\"].str.get_dummies(sep=\",\"),pd.get_dummies(anime[[\"type\"]]),anime[[\"rating\"]],anime[[\"members\"]],anime[\"episodes\"]],axis=1)\n",
    "\n",
    "anime[\"name\"] = anime[\"name\"].map(lambda name:re.sub('[^A-Za-z0-9]+', \" \", name))\n",
    "\n",
    "max_abs_scaler = MaxAbsScaler()\n",
    "anime_features = max_abs_scaler.fit_transform(anime_features)\n",
    "\n",
    "nbrs = NearestNeighbors(n_neighbors=6, algorithm='ball_tree').fit(anime_features)\n",
    "distances, indices = nbrs.kneighbors(anime_features)\n",
    "\n",
    "find_alike_animes(animeName=\"Naruto\")"
   ]
  },
  {
   "cell_type": "code",
   "execution_count": null,
   "metadata": {
    "collapsed": true
   },
   "outputs": [],
   "source": []
  },
  {
   "cell_type": "code",
   "execution_count": null,
   "metadata": {
    "collapsed": true
   },
   "outputs": [],
   "source": []
  }
 ],
 "metadata": {
  "kernelspec": {
   "display_name": "Python 3",
   "language": "python",
   "name": "python3"
  },
  "language_info": {
   "codemirror_mode": {
    "name": "ipython",
    "version": 3
   },
   "file_extension": ".py",
   "mimetype": "text/x-python",
   "name": "python",
   "nbconvert_exporter": "python",
   "pygments_lexer": "ipython3",
   "version": "3.6.1"
  }
 },
 "nbformat": 4,
 "nbformat_minor": 2
}
